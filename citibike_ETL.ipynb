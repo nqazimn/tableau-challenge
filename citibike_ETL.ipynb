{
 "cells": [
  {
   "cell_type": "code",
   "execution_count": 1,
   "metadata": {},
   "outputs": [
    {
     "data": {
      "text/html": [
       "<style>.container { width:100% !important; }</style>"
      ],
      "text/plain": [
       "<IPython.core.display.HTML object>"
      ]
     },
     "metadata": {},
     "output_type": "display_data"
    }
   ],
   "source": [
    "import os\n",
    "import pandas as pd\n",
    "\n",
    "from IPython.core.display import display, HTML\n",
    "display(HTML(\"<style>.container { width:100% !important; }</style>\"))"
   ]
  },
  {
   "cell_type": "code",
   "execution_count": 2,
   "metadata": {},
   "outputs": [
    {
     "name": "stdout",
     "output_type": "stream",
     "text": [
      "13\n",
      "resources\\november_data\\201311-citibike-tripdata\\201311-citibike-tripdata.csv\n",
      "14\n",
      "resources\\november_data\\201411-citibike-tripdata\\201411-citibike-tripdata.csv\n",
      "15\n",
      "resources\\november_data\\201511-citibike-tripdata\\201511-citibike-tripdata.csv\n",
      "16\n",
      "resources\\november_data\\201611-citibike-tripdata\\201611-citibike-tripdata.csv\n",
      "17\n",
      "resources\\november_data\\201711-citibike-tripdata\\201711-citibike-tripdata.csv\n",
      "18\n",
      "resources\\november_data\\201811-citibike-tripdata\\201811-citibike-tripdata.csv\n",
      "19\n",
      "resources\\november_data\\201911-citibike-tripdata\\201911-citibike-tripdata.csv\n"
     ]
    }
   ],
   "source": [
    "list_of_trip_dfs = []\n",
    "list_of_years = ['13','14','15','16','17','18','19']\n",
    "for year in list_of_years:\n",
    "    print(year)\n",
    "    citibike_path = os.path.join('resources',\\\n",
    "                                 'november_data',\\\n",
    "                                 f'20{year}11-citibike-tripdata',\\\n",
    "                                 f'20{year}11-citibike-tripdata.csv'\n",
    "                                )\n",
    "\n",
    "    print(citibike_path)\n",
    "    list_of_trip_dfs.append(pd.read_csv(citibike_path))    "
   ]
  },
  {
   "cell_type": "code",
   "execution_count": 4,
   "metadata": {},
   "outputs": [
    {
     "name": "stdout",
     "output_type": "stream",
     "text": [
      "Trip Duration\n",
      "tripduration\n",
      "\n",
      "Start Time\n",
      "starttime\n",
      "\n",
      "Stop Time\n",
      "stoptime\n",
      "\n",
      "Start Station ID\n",
      "start station id\n",
      "\n",
      "Start Station Name\n",
      "start station name\n",
      "\n",
      "Start Station Latitude\n",
      "start station latitude\n",
      "\n",
      "Start Station Longitude\n",
      "start station longitude\n",
      "\n",
      "End Station ID\n",
      "end station id\n",
      "\n",
      "End Station Name\n",
      "end station name\n",
      "\n",
      "End Station Latitude\n",
      "end station latitude\n",
      "\n",
      "End Station Longitude\n",
      "end station longitude\n",
      "\n",
      "Bike ID\n",
      "bikeid\n",
      "\n",
      "User Type\n",
      "usertype\n",
      "\n",
      "Birth Year\n",
      "birth year\n",
      "\n",
      "Gender\n",
      "gender\n",
      "\n"
     ]
    }
   ],
   "source": [
    "# Rename columns of dataframe for November 2016\n",
    "list_of_consistent_column_names = list(list_of_trip_dfs[2].columns)\n",
    "temp = 0                                       \n",
    "for col in list(list_of_trip_dfs[3].columns):\n",
    "    print(col)\n",
    "    print(list_of_consistent_column_names[temp])\n",
    "    list_of_trip_dfs[3].rename(columns={col:list_of_consistent_column_names[temp]},inplace=True)\n",
    "    print()   \n",
    "    \n",
    "    temp+=1"
   ]
  },
  {
   "cell_type": "code",
   "execution_count": 5,
   "metadata": {},
   "outputs": [
    {
     "name": "stdout",
     "output_type": "stream",
     "text": [
      "Writing: november_13.csv\n",
      "Writing: november_14.csv\n",
      "Writing: november_15.csv\n",
      "Writing: november_16.csv\n",
      "Writing: november_17.csv\n",
      "Writing: november_18.csv\n",
      "Writing: november_19.csv\n"
     ]
    }
   ],
   "source": [
    "temp = 0\n",
    "for df in list_of_trip_dfs:\n",
    "    print(f'Writing: november_{list_of_years[temp]}.csv')\n",
    "    df.to_csv(f'november_{list_of_years[temp]}.csv')\n",
    "    temp+=1"
   ]
  },
  {
   "cell_type": "code",
   "execution_count": 6,
   "metadata": {},
   "outputs": [
    {
     "name": "stdout",
     "output_type": "stream",
     "text": [
      "675774\n",
      "529188\n",
      "987245\n",
      "1196942\n",
      "1330649\n",
      "1260355\n",
      "1478708\n"
     ]
    }
   ],
   "source": [
    "temp = 0\n",
    "for df in list_of_trip_dfs:\n",
    "    print(len(df))\n",
    "#     print(f'Writing: november_{list_of_years[temp]}.csv')\n",
    "#     df.to_csv(f'november_{list_of_years[temp]}.csv')\n",
    "#     temp+=1"
   ]
  },
  {
   "cell_type": "code",
   "execution_count": null,
   "metadata": {},
   "outputs": [],
   "source": [
    "# trip_df = pd.concat(list_of_trip_dfs, ignore_index=True, sort=False)\n",
    "# trip_df.head()"
   ]
  },
  {
   "cell_type": "code",
   "execution_count": null,
   "metadata": {},
   "outputs": [],
   "source": [
    "# Drop the birth year column due to unreliable data\n",
    "# trip_df.drop('birth year',axis = 1, inplace=True)\n",
    "# trip_df.head()"
   ]
  },
  {
   "cell_type": "code",
   "execution_count": null,
   "metadata": {},
   "outputs": [],
   "source": [
    "# Write out as csv to read in Tableau\n",
    "# trip_df.to_csv('citibike_november_2013_to_2019.csv', index=False)"
   ]
  },
  {
   "cell_type": "code",
   "execution_count": null,
   "metadata": {},
   "outputs": [],
   "source": []
  }
 ],
 "metadata": {
  "kernelspec": {
   "display_name": "Python 3",
   "language": "python",
   "name": "python3"
  },
  "language_info": {
   "codemirror_mode": {
    "name": "ipython",
    "version": 3
   },
   "file_extension": ".py",
   "mimetype": "text/x-python",
   "name": "python",
   "nbconvert_exporter": "python",
   "pygments_lexer": "ipython3",
   "version": "3.6.9"
  }
 },
 "nbformat": 4,
 "nbformat_minor": 2
}
