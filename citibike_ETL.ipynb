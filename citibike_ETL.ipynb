{
 "cells": [
  {
   "cell_type": "code",
   "execution_count": null,
   "metadata": {},
   "outputs": [],
   "source": [
    "import os\n",
    "import pandas as pd\n",
    "\n",
    "from IPython.core.display import display, HTML\n",
    "display(HTML(\"<style>.container { width:100% !important; }</style>\"))"
   ]
  },
  {
   "cell_type": "code",
   "execution_count": null,
   "metadata": {},
   "outputs": [],
   "source": [
    "list_of_trip_dfs = []\n",
    "list_of_years = ['13','14','15','16','17','18','19']\n",
    "for year in list_of_years:\n",
    "    print(year)\n",
    "    citibike_path = os.path.join('resources',\\\n",
    "                                 'november_data',\\\n",
    "                                 f'20{year}11-citibike-tripdata',\\\n",
    "                                 f'20{year}11-citibike-tripdata.csv'\n",
    "                                )\n",
    "\n",
    "    print(citibike_path)\n",
    "    list_of_trip_dfs.append(pd.read_csv(citibike_path))    "
   ]
  },
  {
   "cell_type": "code",
   "execution_count": null,
   "metadata": {},
   "outputs": [],
   "source": [
    "# Rename columns of dataframe for November 2016\n",
    "list_of_consistent_column_names = list(list_of_trip_dfs[2].columns)\n",
    "temp = 0                                       \n",
    "for col in list(list_of_trip_dfs[3].columns):\n",
    "    print(col)\n",
    "    print(list_of_consistent_column_names[temp])\n",
    "    list_of_trip_dfs[3].rename(columns={col:list_of_consistent_column_names[temp]},inplace=True)\n",
    "    print()\n",
    "    temp+=1"
   ]
  },
  {
   "cell_type": "code",
   "execution_count": null,
   "metadata": {},
   "outputs": [],
   "source": [
    "trip_df = pd.concat(list_of_trip_dfs, ignore_index=True, sort=False)\n",
    "trip_df.head()"
   ]
  },
  {
   "cell_type": "code",
   "execution_count": null,
   "metadata": {},
   "outputs": [],
   "source": [
    "# Drop the birth year column due to unreliable data\n",
    "trip_df.drop('birth year',axis = 1, inplace=True)\n",
    "trip_df.head()"
   ]
  },
  {
   "cell_type": "code",
   "execution_count": null,
   "metadata": {},
   "outputs": [],
   "source": [
    "# Write out as csv to read in Tableau\n",
    "# trip_df.to_csv('citibike_november_2013_to_2019.csv', index=False)"
   ]
  },
  {
   "cell_type": "code",
   "execution_count": null,
   "metadata": {},
   "outputs": [],
   "source": []
  }
 ],
 "metadata": {
  "kernelspec": {
   "display_name": "Python 3",
   "language": "python",
   "name": "python3"
  },
  "language_info": {
   "codemirror_mode": {
    "name": "ipython",
    "version": 3
   },
   "file_extension": ".py",
   "mimetype": "text/x-python",
   "name": "python",
   "nbconvert_exporter": "python",
   "pygments_lexer": "ipython3",
   "version": "3.6.9"
  }
 },
 "nbformat": 4,
 "nbformat_minor": 2
}
